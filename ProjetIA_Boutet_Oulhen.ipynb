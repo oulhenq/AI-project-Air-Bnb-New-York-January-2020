{
  "nbformat": 4,
  "nbformat_minor": 0,
  "metadata": {
    "colab": {
      "name": "ProjetIA_Boutet_Oulhen",
      "provenance": [],
      "toc_visible": true
    },
    "kernelspec": {
      "name": "python3",
      "display_name": "Python 3"
    }
  },
  "cells": [
    {
      "cell_type": "code",
      "metadata": {
        "id": "3ERENr_dlx6U",
        "colab_type": "code",
        "colab": {}
      },
      "source": [
        "import pandas as pd\n",
        "import numpy as np\n",
        "import matplotlib.pyplot as plt\n",
        "import seaborn as sns\n",
        "from sklearn.model_selection import train_test_split\n",
        "from sklearn.metrics import mean_squared_error"
      ],
      "execution_count": 0,
      "outputs": []
    },
    {
      "cell_type": "code",
      "metadata": {
        "id": "a25M6kUPpb-I",
        "colab_type": "code",
        "colab": {}
      },
      "source": [
        "data = pd.read_csv(\"AB_NYC_2019.csv\")"
      ],
      "execution_count": 0,
      "outputs": []
    },
    {
      "cell_type": "code",
      "metadata": {
        "id": "meKm4XgYpjvL",
        "colab_type": "code",
        "outputId": "82e95619-8cf8-458c-a479-199d4847b38a",
        "colab": {
          "base_uri": "https://localhost:8080/",
          "height": 417
        }
      },
      "source": [
        "data.head()"
      ],
      "execution_count": 0,
      "outputs": [
        {
          "output_type": "execute_result",
          "data": {
            "text/html": [
              "<div>\n",
              "<style scoped>\n",
              "    .dataframe tbody tr th:only-of-type {\n",
              "        vertical-align: middle;\n",
              "    }\n",
              "\n",
              "    .dataframe tbody tr th {\n",
              "        vertical-align: top;\n",
              "    }\n",
              "\n",
              "    .dataframe thead th {\n",
              "        text-align: right;\n",
              "    }\n",
              "</style>\n",
              "<table border=\"1\" class=\"dataframe\">\n",
              "  <thead>\n",
              "    <tr style=\"text-align: right;\">\n",
              "      <th></th>\n",
              "      <th>id</th>\n",
              "      <th>name</th>\n",
              "      <th>host_id</th>\n",
              "      <th>host_name</th>\n",
              "      <th>neighbourhood_group</th>\n",
              "      <th>neighbourhood</th>\n",
              "      <th>latitude</th>\n",
              "      <th>longitude</th>\n",
              "      <th>room_type</th>\n",
              "      <th>price</th>\n",
              "      <th>minimum_nights</th>\n",
              "      <th>number_of_reviews</th>\n",
              "      <th>last_review</th>\n",
              "      <th>reviews_per_month</th>\n",
              "      <th>calculated_host_listings_count</th>\n",
              "      <th>availability_365</th>\n",
              "    </tr>\n",
              "  </thead>\n",
              "  <tbody>\n",
              "    <tr>\n",
              "      <th>0</th>\n",
              "      <td>2539</td>\n",
              "      <td>Clean &amp; quiet apt home by the park</td>\n",
              "      <td>2787</td>\n",
              "      <td>John</td>\n",
              "      <td>Brooklyn</td>\n",
              "      <td>Kensington</td>\n",
              "      <td>40.64749</td>\n",
              "      <td>-73.97237</td>\n",
              "      <td>Private room</td>\n",
              "      <td>149</td>\n",
              "      <td>1</td>\n",
              "      <td>9</td>\n",
              "      <td>2018-10-19</td>\n",
              "      <td>0.21</td>\n",
              "      <td>6</td>\n",
              "      <td>365</td>\n",
              "    </tr>\n",
              "    <tr>\n",
              "      <th>1</th>\n",
              "      <td>2595</td>\n",
              "      <td>Skylit Midtown Castle</td>\n",
              "      <td>2845</td>\n",
              "      <td>Jennifer</td>\n",
              "      <td>Manhattan</td>\n",
              "      <td>Midtown</td>\n",
              "      <td>40.75362</td>\n",
              "      <td>-73.98377</td>\n",
              "      <td>Entire home/apt</td>\n",
              "      <td>225</td>\n",
              "      <td>1</td>\n",
              "      <td>45</td>\n",
              "      <td>2019-05-21</td>\n",
              "      <td>0.38</td>\n",
              "      <td>2</td>\n",
              "      <td>355</td>\n",
              "    </tr>\n",
              "    <tr>\n",
              "      <th>2</th>\n",
              "      <td>3647</td>\n",
              "      <td>THE VILLAGE OF HARLEM....NEW YORK !</td>\n",
              "      <td>4632</td>\n",
              "      <td>Elisabeth</td>\n",
              "      <td>Manhattan</td>\n",
              "      <td>Harlem</td>\n",
              "      <td>40.80902</td>\n",
              "      <td>-73.94190</td>\n",
              "      <td>Private room</td>\n",
              "      <td>150</td>\n",
              "      <td>3</td>\n",
              "      <td>0</td>\n",
              "      <td>NaN</td>\n",
              "      <td>NaN</td>\n",
              "      <td>1</td>\n",
              "      <td>365</td>\n",
              "    </tr>\n",
              "    <tr>\n",
              "      <th>3</th>\n",
              "      <td>3831</td>\n",
              "      <td>Cozy Entire Floor of Brownstone</td>\n",
              "      <td>4869</td>\n",
              "      <td>LisaRoxanne</td>\n",
              "      <td>Brooklyn</td>\n",
              "      <td>Clinton Hill</td>\n",
              "      <td>40.68514</td>\n",
              "      <td>-73.95976</td>\n",
              "      <td>Entire home/apt</td>\n",
              "      <td>89</td>\n",
              "      <td>1</td>\n",
              "      <td>270</td>\n",
              "      <td>2019-07-05</td>\n",
              "      <td>4.64</td>\n",
              "      <td>1</td>\n",
              "      <td>194</td>\n",
              "    </tr>\n",
              "    <tr>\n",
              "      <th>4</th>\n",
              "      <td>5022</td>\n",
              "      <td>Entire Apt: Spacious Studio/Loft by central park</td>\n",
              "      <td>7192</td>\n",
              "      <td>Laura</td>\n",
              "      <td>Manhattan</td>\n",
              "      <td>East Harlem</td>\n",
              "      <td>40.79851</td>\n",
              "      <td>-73.94399</td>\n",
              "      <td>Entire home/apt</td>\n",
              "      <td>80</td>\n",
              "      <td>10</td>\n",
              "      <td>9</td>\n",
              "      <td>2018-11-19</td>\n",
              "      <td>0.10</td>\n",
              "      <td>1</td>\n",
              "      <td>0</td>\n",
              "    </tr>\n",
              "  </tbody>\n",
              "</table>\n",
              "</div>"
            ],
            "text/plain": [
              "     id  ... availability_365\n",
              "0  2539  ...              365\n",
              "1  2595  ...              355\n",
              "2  3647  ...              365\n",
              "3  3831  ...              194\n",
              "4  5022  ...                0\n",
              "\n",
              "[5 rows x 16 columns]"
            ]
          },
          "metadata": {
            "tags": []
          },
          "execution_count": 44
        }
      ]
    },
    {
      "cell_type": "code",
      "metadata": {
        "id": "cWZBhnE-psTQ",
        "colab_type": "code",
        "outputId": "acd59fb8-ce83-4182-8616-14afe9450be6",
        "colab": {
          "base_uri": "https://localhost:8080/",
          "height": 382
        }
      },
      "source": [
        "data.info()"
      ],
      "execution_count": 0,
      "outputs": [
        {
          "output_type": "stream",
          "text": [
            "<class 'pandas.core.frame.DataFrame'>\n",
            "RangeIndex: 48895 entries, 0 to 48894\n",
            "Data columns (total 16 columns):\n",
            "id                                48895 non-null int64\n",
            "name                              48879 non-null object\n",
            "host_id                           48895 non-null int64\n",
            "host_name                         48874 non-null object\n",
            "neighbourhood_group               48895 non-null object\n",
            "neighbourhood                     48895 non-null object\n",
            "latitude                          48895 non-null float64\n",
            "longitude                         48895 non-null float64\n",
            "room_type                         48895 non-null object\n",
            "price                             48895 non-null int64\n",
            "minimum_nights                    48895 non-null int64\n",
            "number_of_reviews                 48895 non-null int64\n",
            "last_review                       38843 non-null object\n",
            "reviews_per_month                 38843 non-null float64\n",
            "calculated_host_listings_count    48895 non-null int64\n",
            "availability_365                  48895 non-null int64\n",
            "dtypes: float64(3), int64(7), object(6)\n",
            "memory usage: 6.0+ MB\n"
          ],
          "name": "stdout"
        }
      ]
    },
    {
      "cell_type": "markdown",
      "metadata": {
        "id": "SOFLwA_IQckH",
        "colab_type": "text"
      },
      "source": [
        "Les variables qui peuvent nous intéresser "
      ]
    },
    {
      "cell_type": "markdown",
      "metadata": {
        "id": "YYy009ollnNS",
        "colab_type": "text"
      },
      "source": [
        "# Preprocessing du dataset"
      ]
    },
    {
      "cell_type": "markdown",
      "metadata": {
        "id": "BnNxUcmDpKg1",
        "colab_type": "text"
      },
      "source": [
        "## Drop des colonnes non utiles"
      ]
    },
    {
      "cell_type": "markdown",
      "metadata": {
        "id": "3FvTUxEIjDVX",
        "colab_type": "text"
      },
      "source": [
        "Les informations sur le propriétaire ne nous intéressent pas dans cette étude, de même que la description du bien\n"
      ]
    },
    {
      "cell_type": "code",
      "metadata": {
        "id": "Jjkz2R9pFjp3",
        "colab_type": "code",
        "colab": {}
      },
      "source": [
        "data.drop(columns=[\"name\", \"host_id\", \"host_name\"], inplace=True)"
      ],
      "execution_count": 0,
      "outputs": []
    },
    {
      "cell_type": "markdown",
      "metadata": {
        "id": "ngzGqWDnpP3C",
        "colab_type": "text"
      },
      "source": [
        "## Etude de répartition des prix"
      ]
    },
    {
      "cell_type": "code",
      "metadata": {
        "id": "T835oOnzqJqM",
        "colab_type": "code",
        "outputId": "09d17b2e-9485-491a-84ef-d047043d4982",
        "colab": {
          "base_uri": "https://localhost:8080/",
          "height": 173
        }
      },
      "source": [
        "data.price.describe()"
      ],
      "execution_count": 0,
      "outputs": [
        {
          "output_type": "execute_result",
          "data": {
            "text/plain": [
              "count    48895.000000\n",
              "mean       152.720687\n",
              "std        240.154170\n",
              "min          0.000000\n",
              "25%         69.000000\n",
              "50%        106.000000\n",
              "75%        175.000000\n",
              "max      10000.000000\n",
              "Name: price, dtype: float64"
            ]
          },
          "metadata": {
            "tags": []
          },
          "execution_count": 47
        }
      ]
    },
    {
      "cell_type": "markdown",
      "metadata": {
        "id": "76MtEwN7jTZv",
        "colab_type": "text"
      },
      "source": [
        "Waouh ! On a des locations gratuites et d'autres qui valent 10,000 dollars la nuit ! Celles à 10,000 dollars peuvent être légitimes, en revanche on va supprimer les chambres à 0 dollar car cela ne semble pas correct ..."
      ]
    },
    {
      "cell_type": "code",
      "metadata": {
        "id": "uB4WsdjgtQ5V",
        "colab_type": "code",
        "colab": {}
      },
      "source": [
        "data = data[data.price > 0]"
      ],
      "execution_count": 0,
      "outputs": []
    },
    {
      "cell_type": "code",
      "metadata": {
        "id": "t6ktyaqslTFA",
        "colab_type": "code",
        "outputId": "f79b15db-9be6-4387-cc63-8063b53904a0",
        "colab": {
          "base_uri": "https://localhost:8080/",
          "height": 296
        }
      },
      "source": [
        "sns.distplot(data[\"price\"], bins=100) # On affiche l'histogramme des prix"
      ],
      "execution_count": 0,
      "outputs": [
        {
          "output_type": "execute_result",
          "data": {
            "text/plain": [
              "<matplotlib.axes._subplots.AxesSubplot at 0x7f53ecc368d0>"
            ]
          },
          "metadata": {
            "tags": []
          },
          "execution_count": 49
        },
        {
          "output_type": "display_data",
          "data": {
            "image/png": "[encoded data removed]",
            "text/plain": [
              "<Figure size 432x288 with 1 Axes>"
            ]
          },
          "metadata": {
            "tags": []
          }
        }
      ]
    },
    {
      "cell_type": "markdown",
      "metadata": {
        "id": "yuRx4EwClbT3",
        "colab_type": "text"
      },
      "source": [
        "Bon c'est pas super centré et visible, on va regarder la répartition du logarithme des prix"
      ]
    },
    {
      "cell_type": "code",
      "metadata": {
        "id": "QMFDEfAzzJ6H",
        "colab_type": "code",
        "colab": {}
      },
      "source": [
        "logprice = np.log(data.price)"
      ],
      "execution_count": 0,
      "outputs": []
    },
    {
      "cell_type": "code",
      "metadata": {
        "id": "jdLI2LfNzl-k",
        "colab_type": "code",
        "outputId": "690d02cc-9255-4d1f-827a-327a43a4008d",
        "colab": {
          "base_uri": "https://localhost:8080/",
          "height": 296
        }
      },
      "source": [
        "sns.distplot(logprice)"
      ],
      "execution_count": 0,
      "outputs": [
        {
          "output_type": "execute_result",
          "data": {
            "text/plain": [
              "<matplotlib.axes._subplots.AxesSubplot at 0x7f53ed182f60>"
            ]
          },
          "metadata": {
            "tags": []
          },
          "execution_count": 51
        },
        {
          "output_type": "display_data",
          "data": {
            "image/png": "[encoded data removed]",
            "text/plain": [
              "<Figure size 432x288 with 1 Axes>"
            ]
          },
          "metadata": {
            "tags": []
          }
        }
      ]
    },
    {
      "cell_type": "markdown",
      "metadata": {
        "id": "5P57sBsmlkzH",
        "colab_type": "text"
      },
      "source": [
        "Là c'est bien mieux ! On voit que les logarithmes des prix des logements suivent une loi normale dont on va trouver les paramètres"
      ]
    },
    {
      "cell_type": "code",
      "metadata": {
        "id": "SYYFbB4ymEke",
        "colab_type": "code",
        "outputId": "ecf9d574-9ac7-4e7c-f94a-54e21efcf959",
        "colab": {
          "base_uri": "https://localhost:8080/",
          "height": 331
        }
      },
      "source": [
        "print(\"Moyenne de logprice : \" + str(logprice.mean()))\n",
        "print(\"Ecart-type de logprice : \" + str(logprice.std()))\n",
        "\n",
        "sns.distplot(logprice)\n",
        "sns.distplot(np.random.normal(logprice.mean(), logprice.std(), 40000), hist=False)"
      ],
      "execution_count": 0,
      "outputs": [
        {
          "output_type": "stream",
          "text": [
            "Moyenne de logprice : 4.727030887745868\n",
            "Ecart-type de logprice : 0.6982248633709675\n"
          ],
          "name": "stdout"
        },
        {
          "output_type": "execute_result",
          "data": {
            "text/plain": [
              "<matplotlib.axes._subplots.AxesSubplot at 0x7f53eca54dd8>"
            ]
          },
          "metadata": {
            "tags": []
          },
          "execution_count": 52
        },
        {
          "output_type": "display_data",
          "data": {
            "image/png": "[encoded data removed]",
            "text/plain": [
              "<Figure size 432x288 with 1 Axes>"
            ]
          },
          "metadata": {
            "tags": []
          }
        }
      ]
    },
    {
      "cell_type": "markdown",
      "metadata": {
        "id": "YPnNK53KpWmC",
        "colab_type": "text"
      },
      "source": [
        "## Etude et encoding de Room Type"
      ]
    },
    {
      "cell_type": "markdown",
      "metadata": {
        "id": "IBL01mjGj_f_",
        "colab_type": "text"
      },
      "source": [
        "On a voulu se pencher sur l'influence du type de chambre sur le prix pour tenter de caractériser numériquement cette variable "
      ]
    },
    {
      "cell_type": "code",
      "metadata": {
        "id": "brH0u2-fqfmw",
        "colab_type": "code",
        "colab": {}
      },
      "source": [
        "data = pd.get_dummies(data, columns=[\"room_type\"])\n",
        "# Un one-hot-encoding classique pour pouvoir calculer les corrélations"
      ],
      "execution_count": 0,
      "outputs": []
    },
    {
      "cell_type": "code",
      "metadata": {
        "id": "NBFiqnMPrfJP",
        "colab_type": "code",
        "outputId": "86657a72-17dd-4698-a5eb-6e637b2ada65",
        "colab": {
          "base_uri": "https://localhost:8080/",
          "height": 696
        }
      },
      "source": [
        "# Notre matrice de corrélation\n",
        "corr = data.corr()\n",
        "\n",
        "# Le graphe\n",
        "f, ax = plt.subplots(figsize=(11, 9))\n",
        "\n",
        "# Un peu de couleur\n",
        "cmap = sns.diverging_palette(220, 10, as_cmap=True)\n",
        "\n",
        "# L'affichage \n",
        "sns.heatmap(corr, cmap=\"bwr\", vmax=1, center=0, linewidths=.5, cbar_kws={\"shrink\": .5})"
      ],
      "execution_count": 0,
      "outputs": [
        {
          "output_type": "execute_result",
          "data": {
            "text/plain": [
              "<matplotlib.axes._subplots.AxesSubplot at 0x7f53ecb4e198>"
            ]
          },
          "metadata": {
            "tags": []
          },
          "execution_count": 54
        },
        {
          "output_type": "display_data",
          "data": {
            "image/png": "[encoded data removed]",
            "text/plain": [
              "<Figure size 792x648 with 2 Axes>"
            ]
          },
          "metadata": {
            "tags": []
          }
        }
      ]
    },
    {
      "cell_type": "markdown",
      "metadata": {
        "id": "xfGy0rs1kmzT",
        "colab_type": "text"
      },
      "source": [
        "On voit donc que le type de bien a une influence sur son prix. Un bien de type Entire home/apt aura tendance à être plus cher qu'un bien similaire de type Private Room ou Shared Room. "
      ]
    },
    {
      "cell_type": "code",
      "metadata": {
        "id": "wA2cx7Q1zoUU",
        "colab_type": "code",
        "colab": {}
      },
      "source": [
        "dataRoomType1 = data[data[\"room_type_Entire home/apt\"] == 1]\n",
        "dataRoomType2 = data[data[\"room_type_Private room\"] == 1]\n",
        "dataRoomType3 = data[data[\"room_type_Shared room\"] == 1]\n",
        "\n",
        "roomType1logPrice = np.log(dataRoomType1.price)\n",
        "roomType2logPrice = np.log(dataRoomType2.price)\n",
        "roomType3logPrice = np.log(dataRoomType3.price)"
      ],
      "execution_count": 0,
      "outputs": []
    },
    {
      "cell_type": "code",
      "metadata": {
        "id": "t6LoYNrl3eLl",
        "colab_type": "code",
        "outputId": "de4c9c8f-5cc7-43e4-a9d2-2003ca51fb90",
        "colab": {
          "base_uri": "https://localhost:8080/",
          "height": 296
        }
      },
      "source": [
        "sns.distplot(roomType1logPrice, hist=False, color=\"darkblue\")\n",
        "sns.distplot(roomType2logPrice, hist=False, color=\"blue\")\n",
        "sns.distplot(roomType3logPrice, hist=False, color=\"cyan\")"
      ],
      "execution_count": 0,
      "outputs": [
        {
          "output_type": "execute_result",
          "data": {
            "text/plain": [
              "<matplotlib.axes._subplots.AxesSubplot at 0x7f53fc6eeeb8>"
            ]
          },
          "metadata": {
            "tags": []
          },
          "execution_count": 56
        },
        {
          "output_type": "display_data",
          "data": {
            "image/png": "[encoded data removed]",
            "text/plain": [
              "<Figure size 432x288 with 1 Axes>"
            ]
          },
          "metadata": {
            "tags": []
          }
        }
      ]
    },
    {
      "cell_type": "markdown",
      "metadata": {
        "id": "7VNheqAbpfbc",
        "colab_type": "text"
      },
      "source": [
        "On se rend compte que les prix ne suivent pas la même répartition selon le type de location. Cependant on ne saura pas en tirer profit pour encoder cette variable de façon avantageuse.\n",
        "On va conserver le One-Hot encoding "
      ]
    },
    {
      "cell_type": "markdown",
      "metadata": {
        "id": "rhotBrHIqM6q",
        "colab_type": "text"
      },
      "source": [
        "## Etude et encoding de neighbourhood"
      ]
    },
    {
      "cell_type": "markdown",
      "metadata": {
        "id": "07SiayhLq6To",
        "colab_type": "text"
      },
      "source": [
        "La variable catégorielle neighbourhood sera encodée par one-hot encoding "
      ]
    },
    {
      "cell_type": "code",
      "metadata": {
        "id": "s7_xSs73DI78",
        "colab_type": "code",
        "colab": {}
      },
      "source": [
        "data = pd.get_dummies(data, columns=[\"neighbourhood\"])"
      ],
      "execution_count": 0,
      "outputs": []
    },
    {
      "cell_type": "markdown",
      "metadata": {
        "id": "AYTkmiz8xv_X",
        "colab_type": "text"
      },
      "source": [
        "## Préparation des jeux d'entraînement et de test"
      ]
    },
    {
      "cell_type": "code",
      "metadata": {
        "id": "Ofen7SvvPdne",
        "colab_type": "code",
        "colab": {}
      },
      "source": [
        "data.columns"
      ],
      "execution_count": 0,
      "outputs": []
    },
    {
      "cell_type": "code",
      "metadata": {
        "id": "LjZbOkSyDbaJ",
        "colab_type": "code",
        "colab": {}
      },
      "source": [
        "response = \"price\"\n",
        "features = [\"latitude\", \"longitude\", \"minimum_nights\", \"number_of_reviews\"] + [col for col in data.columns[9:]]"
      ],
      "execution_count": 0,
      "outputs": []
    },
    {
      "cell_type": "code",
      "metadata": {
        "id": "uyd-ya0vG2fr",
        "colab_type": "code",
        "colab": {}
      },
      "source": [
        "X_train, X_test, Y_train, Y_test = train_test_split(\n",
        "    data[features],\n",
        "    data[response],\n",
        "    test_size = 0.3\n",
        ")"
      ],
      "execution_count": 0,
      "outputs": []
    },
    {
      "cell_type": "markdown",
      "metadata": {
        "id": "mccHhgSQHLI4",
        "colab_type": "text"
      },
      "source": [
        "# Entraînement pour la prédiction du prix"
      ]
    },
    {
      "cell_type": "code",
      "metadata": {
        "id": "8f2qGosdPuJs",
        "colab_type": "code",
        "colab": {}
      },
      "source": [
        "def evaluer(model):\n",
        "  return np.round(\n",
        "      np.sqrt(mean_squared_error(\n",
        "          Y_test,\n",
        "          model.predict(X_test)\n",
        "          )\n",
        "      ),\n",
        "      2\n",
        "  )"
      ],
      "execution_count": 0,
      "outputs": []
    },
    {
      "cell_type": "markdown",
      "metadata": {
        "id": "jSLWliofHWK8",
        "colab_type": "text"
      },
      "source": [
        "## 1er entraînement : Linear Regression"
      ]
    },
    {
      "cell_type": "code",
      "metadata": {
        "id": "iLHRjALdHXCJ",
        "colab_type": "code",
        "outputId": "a4635ad9-fb6a-4bb7-ef8e-650b266c6e44",
        "colab": {
          "base_uri": "https://localhost:8080/",
          "height": 34
        }
      },
      "source": [
        "from sklearn.linear_model import LinearRegression\n",
        "\n",
        "lr = LinearRegression()\n",
        "lr.fit(X_train, Y_train)\n"
      ],
      "execution_count": 0,
      "outputs": [
        {
          "output_type": "execute_result",
          "data": {
            "text/plain": [
              "LinearRegression(copy_X=True, fit_intercept=True, n_jobs=None, normalize=False)"
            ]
          },
          "metadata": {
            "tags": []
          },
          "execution_count": 62
        }
      ]
    },
    {
      "cell_type": "code",
      "metadata": {
        "id": "gl9nvtRuH-Rw",
        "colab_type": "code",
        "outputId": "cbc66319-624a-4ced-84f4-ef676c4f256e",
        "colab": {
          "base_uri": "https://localhost:8080/",
          "height": 34
        }
      },
      "source": [
        "lr.score(X_test, Y_test)"
      ],
      "execution_count": 0,
      "outputs": [
        {
          "output_type": "execute_result",
          "data": {
            "text/plain": [
              "-117187923062026.73"
            ]
          },
          "metadata": {
            "tags": []
          },
          "execution_count": 63
        }
      ]
    },
    {
      "cell_type": "code",
      "metadata": {
        "id": "PC5za0cfHvFz",
        "colab_type": "code",
        "outputId": "a9ea730a-dc37-42a0-e0cd-71c8b58cc354",
        "colab": {
          "base_uri": "https://localhost:8080/",
          "height": 34
        }
      },
      "source": [
        "evaluer(lr)"
      ],
      "execution_count": 0,
      "outputs": [
        {
          "output_type": "execute_result",
          "data": {
            "text/plain": [
              "2639438000.57"
            ]
          },
          "metadata": {
            "tags": []
          },
          "execution_count": 64
        }
      ]
    },
    {
      "cell_type": "markdown",
      "metadata": {
        "id": "wgOs6p9QII9d",
        "colab_type": "text"
      },
      "source": [
        "Et là, c'est le bug ... Pour une raison que l'on a pu déterminer avec l'analyse en R du dataset, on se rend compte que nos variable ne sont pas du tout corrélées linéairement ! Une regression linéaire ne donnera pas de résultats satisfaisants "
      ]
    },
    {
      "cell_type": "markdown",
      "metadata": {
        "id": "jv3JJ9vVDb0V",
        "colab_type": "text"
      },
      "source": [
        "## 2ème entraînement : Ridge regression"
      ]
    },
    {
      "cell_type": "code",
      "metadata": {
        "id": "na-xUbjlDkTb",
        "colab_type": "code",
        "outputId": "f4141530-00c9-45ec-8741-ed631564c114",
        "colab": {
          "base_uri": "https://localhost:8080/",
          "height": 52
        }
      },
      "source": [
        "from sklearn.linear_model import RidgeCV\n",
        "\n",
        "ridge = RidgeCV(cv=5)\n",
        "ridge.fit(X_train, Y_train)"
      ],
      "execution_count": 0,
      "outputs": [
        {
          "output_type": "execute_result",
          "data": {
            "text/plain": [
              "RidgeCV(alphas=array([ 0.1,  1. , 10. ]), cv=5, fit_intercept=True,\n",
              "        gcv_mode=None, normalize=False, scoring=None, store_cv_values=False)"
            ]
          },
          "metadata": {
            "tags": []
          },
          "execution_count": 65
        }
      ]
    },
    {
      "cell_type": "code",
      "metadata": {
        "id": "_FL42QI8IkaG",
        "colab_type": "code",
        "outputId": "c82601b8-86fd-4bec-c55f-1773295b78c6",
        "colab": {
          "base_uri": "https://localhost:8080/",
          "height": 34
        }
      },
      "source": [
        "ridge.score(X_test, Y_test)"
      ],
      "execution_count": 0,
      "outputs": [
        {
          "output_type": "execute_result",
          "data": {
            "text/plain": [
              "0.1184312776557711"
            ]
          },
          "metadata": {
            "tags": []
          },
          "execution_count": 66
        }
      ]
    },
    {
      "cell_type": "code",
      "metadata": {
        "id": "UKUQMXWdEBFx",
        "colab_type": "code",
        "outputId": "261dd8fc-baf7-41d4-e38d-d8eb4d919b34",
        "colab": {
          "base_uri": "https://localhost:8080/",
          "height": 34
        }
      },
      "source": [
        "evaluer(ridge)"
      ],
      "execution_count": 0,
      "outputs": [
        {
          "output_type": "execute_result",
          "data": {
            "text/plain": [
              "228.93"
            ]
          },
          "metadata": {
            "tags": []
          },
          "execution_count": 67
        }
      ]
    },
    {
      "cell_type": "markdown",
      "metadata": {
        "id": "Haw7t5W9Ip27",
        "colab_type": "text"
      },
      "source": [
        "Ok on s'approche un peu ! L'erreur quadratique moyenne est entre 190 et 230 sur les tests différents que nous avons menés."
      ]
    },
    {
      "cell_type": "markdown",
      "metadata": {
        "id": "iQEJ3jeJQuNZ",
        "colab_type": "text"
      },
      "source": [
        "## 3ème entraînement : Lasso regression"
      ]
    },
    {
      "cell_type": "code",
      "metadata": {
        "id": "C6gNHI2rQ0AJ",
        "colab_type": "code",
        "outputId": "ec913dd4-ba3d-4814-9e2d-6b3b836b4cc8",
        "colab": {
          "base_uri": "https://localhost:8080/",
          "height": 86
        }
      },
      "source": [
        "from sklearn.linear_model import LassoCV\n",
        "\n",
        "lasso = LassoCV(eps=0.0001, precompute=True, n_jobs=-1)\n",
        "lasso.fit(X_train, Y_train)"
      ],
      "execution_count": 0,
      "outputs": [
        {
          "output_type": "execute_result",
          "data": {
            "text/plain": [
              "LassoCV(alphas=None, copy_X=True, cv=None, eps=0.0001, fit_intercept=True,\n",
              "        max_iter=1000, n_alphas=100, n_jobs=-1, normalize=False, positive=False,\n",
              "        precompute=True, random_state=None, selection='cyclic', tol=0.0001,\n",
              "        verbose=False)"
            ]
          },
          "metadata": {
            "tags": []
          },
          "execution_count": 68
        }
      ]
    },
    {
      "cell_type": "code",
      "metadata": {
        "id": "_9Qo11Z0I9Ut",
        "colab_type": "code",
        "outputId": "4091df49-d9c5-45ab-ddc7-3f2e1a68c058",
        "colab": {
          "base_uri": "https://localhost:8080/",
          "height": 34
        }
      },
      "source": [
        "lasso.score(X_test, Y_test)"
      ],
      "execution_count": 0,
      "outputs": [
        {
          "output_type": "execute_result",
          "data": {
            "text/plain": [
              "0.1108465169011752"
            ]
          },
          "metadata": {
            "tags": []
          },
          "execution_count": 69
        }
      ]
    },
    {
      "cell_type": "code",
      "metadata": {
        "id": "i9TIyd4YRKto",
        "colab_type": "code",
        "outputId": "6e52dc3e-a64b-4d11-c927-b499f5a238ad",
        "colab": {
          "base_uri": "https://localhost:8080/",
          "height": 34
        }
      },
      "source": [
        "evaluer(lasso)"
      ],
      "execution_count": 0,
      "outputs": [
        {
          "output_type": "execute_result",
          "data": {
            "text/plain": [
              "229.91"
            ]
          },
          "metadata": {
            "tags": []
          },
          "execution_count": 70
        }
      ]
    },
    {
      "cell_type": "markdown",
      "metadata": {
        "id": "JppDOYZxJHq1",
        "colab_type": "text"
      },
      "source": [
        "Pas bien mieux que le Ridge "
      ]
    },
    {
      "cell_type": "markdown",
      "metadata": {
        "id": "ReOy46ukSso4",
        "colab_type": "text"
      },
      "source": [
        "## 4ème entraînement : XGBoost"
      ]
    },
    {
      "cell_type": "code",
      "metadata": {
        "id": "pDqEsk2IUw4o",
        "colab_type": "code",
        "colab": {}
      },
      "source": [
        "import xgboost as xgb"
      ],
      "execution_count": 0,
      "outputs": []
    },
    {
      "cell_type": "code",
      "metadata": {
        "id": "vDaBwPXOUy3u",
        "colab_type": "code",
        "outputId": "884a39cb-4305-4347-8c42-d2838cb2dd0f",
        "colab": {
          "base_uri": "https://localhost:8080/",
          "height": 193
        }
      },
      "source": [
        "params = {\n",
        "    'n_estimators': 2000,\n",
        "    'subsample': 0.8,\n",
        "    'colsample_bytree': 0.8,\n",
        "    'learning_rate': 0.005,\n",
        "    'n_jobs' : 4,\n",
        "    'objective' : 'reg:squarederror'\n",
        "}\n",
        "\n",
        "gbm = xgb.XGBRegressor(**params)\n",
        "gbm.fit(X_train, Y_train)"
      ],
      "execution_count": 0,
      "outputs": [
        {
          "output_type": "stream",
          "text": [
            "/usr/local/lib/python3.6/dist-packages/xgboost/core.py:587: FutureWarning: Series.base is deprecated and will be removed in a future version\n",
            "  if getattr(data, 'base', None) is not None and \\\n"
          ],
          "name": "stderr"
        },
        {
          "output_type": "execute_result",
          "data": {
            "text/plain": [
              "XGBRegressor(base_score=0.5, booster='gbtree', colsample_bylevel=1,\n",
              "             colsample_bynode=1, colsample_bytree=0.8, gamma=0,\n",
              "             importance_type='gain', learning_rate=0.005, max_delta_step=0,\n",
              "             max_depth=3, min_child_weight=1, missing=None, n_estimators=2000,\n",
              "             n_jobs=4, nthread=None, objective='reg:squarederror',\n",
              "             random_state=0, reg_alpha=0, reg_lambda=1, scale_pos_weight=1,\n",
              "             seed=None, silent=None, subsample=0.8, verbosity=1)"
            ]
          },
          "metadata": {
            "tags": []
          },
          "execution_count": 72
        }
      ]
    },
    {
      "cell_type": "code",
      "metadata": {
        "id": "Sa75fpXRKipn",
        "colab_type": "code",
        "outputId": "0d7ea03b-bef4-406f-a1a1-5f8c9caeb568",
        "colab": {
          "base_uri": "https://localhost:8080/",
          "height": 34
        }
      },
      "source": [
        "gbm.score(X_test, Y_test)"
      ],
      "execution_count": 0,
      "outputs": [
        {
          "output_type": "execute_result",
          "data": {
            "text/plain": [
              "0.15973072504774988"
            ]
          },
          "metadata": {
            "tags": []
          },
          "execution_count": 73
        }
      ]
    },
    {
      "cell_type": "code",
      "metadata": {
        "id": "oEGUu9StVHjx",
        "colab_type": "code",
        "outputId": "3410017c-3607-4fa6-a6fb-01ea9fb6c340",
        "colab": {
          "base_uri": "https://localhost:8080/",
          "height": 34
        }
      },
      "source": [
        "evaluer(gbm)"
      ],
      "execution_count": 0,
      "outputs": [
        {
          "output_type": "execute_result",
          "data": {
            "text/plain": [
              "223.5"
            ]
          },
          "metadata": {
            "tags": []
          },
          "execution_count": 74
        }
      ]
    },
    {
      "cell_type": "markdown",
      "metadata": {
        "id": "1o8veB_pKxly",
        "colab_type": "text"
      },
      "source": [
        "Le XGBoost est sensiblement meilleur mais à ce niveau, pas de quoi s'enflammer"
      ]
    },
    {
      "cell_type": "markdown",
      "metadata": {
        "id": "57NmDnX-z-1s",
        "colab_type": "text"
      },
      "source": [
        "## Utilisation de GridSearch pour optimiser le XGBoost"
      ]
    },
    {
      "cell_type": "code",
      "metadata": {
        "id": "U_68Ob_O0CZb",
        "colab_type": "code",
        "colab": {}
      },
      "source": [
        "from sklearn.model_selection import GridSearchCV"
      ],
      "execution_count": 0,
      "outputs": []
    },
    {
      "cell_type": "code",
      "metadata": {
        "id": "6TaTHrjU0N48",
        "colab_type": "code",
        "colab": {}
      },
      "source": [
        "params = {\n",
        "    'n_estimators': [1000, 2000, 4000],\n",
        "    'subsample': [0.8, 0.9],\n",
        "    'colsample_bytree': [0.8, 0.9],\n",
        "    'learning_rate': [0.005, 0.01],\n",
        "    'max_depth':[3, 5, 7]\n",
        "}"
      ],
      "execution_count": 0,
      "outputs": []
    },
    {
      "cell_type": "code",
      "metadata": {
        "id": "vrX8mpZb0eBs",
        "colab_type": "code",
        "colab": {}
      },
      "source": [
        "search = GridSearchCV(\n",
        "    estimator=xgb.XGBRegressor(), \n",
        "    param_grid=params, \n",
        "    cv=2, \n",
        "    n_jobs=8, \n",
        "    verbose=5\n",
        ")"
      ],
      "execution_count": 0,
      "outputs": []
    },
    {
      "cell_type": "code",
      "metadata": {
        "id": "9-Yap6bcLZin",
        "colab_type": "code",
        "colab": {}
      },
      "source": [
        "# search.fir(X_train, Y_train)"
      ],
      "execution_count": 0,
      "outputs": []
    },
    {
      "cell_type": "code",
      "metadata": {
        "id": "imkAqgEhQHn3",
        "colab_type": "code",
        "colab": {}
      },
      "source": [
        "# search.best_estimator_"
      ],
      "execution_count": 0,
      "outputs": []
    },
    {
      "cell_type": "code",
      "metadata": {
        "id": "CGNopquI0vQV",
        "colab_type": "code",
        "colab": {}
      },
      "source": [
        "# evaluer(search)"
      ],
      "execution_count": 0,
      "outputs": []
    },
    {
      "cell_type": "markdown",
      "metadata": {
        "id": "mSOvIA1aLpPe",
        "colab_type": "text"
      },
      "source": [
        "Bon le GridSearch c'est intéressant mais il faut une bonne capacité de calcul et la possibilité de paralléliser les tâches ... Google n'a pas aimé qu'on lui demande 32 coeurs et nous a arrêté le calcul après 230 minutes ... Pas cool mais on n'aurait sans doute pas eu beaucoup mieux !"
      ]
    },
    {
      "cell_type": "markdown",
      "metadata": {
        "id": "L0fEoZmv3hnn",
        "colab_type": "text"
      },
      "source": [
        "## Essai en recherchant les k plus proches voisins\n"
      ]
    },
    {
      "cell_type": "markdown",
      "metadata": {
        "id": "r7WVGUfE3y-p",
        "colab_type": "text"
      },
      "source": [
        "Notre idée ici est de prédire le prix de location d'un appartement en recherchant une moyenne des prix sur les appartements de type similaires dans une zone géographique proche."
      ]
    },
    {
      "cell_type": "markdown",
      "metadata": {
        "id": "NDITlgeJ4iKm",
        "colab_type": "text"
      },
      "source": [
        "On va donc se focaliser sur le type des appartements et considérer comme distance la distance géographique définie par la latitude et la longitude des biens."
      ]
    },
    {
      "cell_type": "code",
      "metadata": {
        "id": "CymomtCp3x4Y",
        "colab_type": "code",
        "colab": {}
      },
      "source": [
        "from sklearn.neighbors import KNeighborsRegressor"
      ],
      "execution_count": 0,
      "outputs": []
    },
    {
      "cell_type": "code",
      "metadata": {
        "id": "pLUaMMeRaCD9",
        "colab_type": "code",
        "colab": {}
      },
      "source": [
        "knn = KNeighborsRegressor(\n",
        "    n_neighbors=65,\n",
        "    weights=\"distance\"\n",
        ")"
      ],
      "execution_count": 0,
      "outputs": []
    },
    {
      "cell_type": "code",
      "metadata": {
        "id": "ZJ9lA8b9M9Ky",
        "colab_type": "code",
        "outputId": "1fb2e9eb-91dd-4a09-ea96-f469e1ee4f05",
        "colab": {
          "base_uri": "https://localhost:8080/",
          "height": 69
        }
      },
      "source": [
        "knn.fit(X_train, Y_train)"
      ],
      "execution_count": 0,
      "outputs": [
        {
          "output_type": "execute_result",
          "data": {
            "text/plain": [
              "KNeighborsRegressor(algorithm='auto', leaf_size=30, metric='minkowski',\n",
              "                    metric_params=None, n_jobs=None, n_neighbors=65, p=2,\n",
              "                    weights='distance')"
            ]
          },
          "metadata": {
            "tags": []
          },
          "execution_count": 131
        }
      ]
    },
    {
      "cell_type": "code",
      "metadata": {
        "id": "o70D7wCrNB0U",
        "colab_type": "code",
        "outputId": "2e673876-8082-4d72-e91c-71020c326cca",
        "colab": {
          "base_uri": "https://localhost:8080/",
          "height": 34
        }
      },
      "source": [
        "knn.score(X_test, Y_test)"
      ],
      "execution_count": 0,
      "outputs": [
        {
          "output_type": "execute_result",
          "data": {
            "text/plain": [
              "0.07951248595579731"
            ]
          },
          "metadata": {
            "tags": []
          },
          "execution_count": 132
        }
      ]
    },
    {
      "cell_type": "code",
      "metadata": {
        "id": "sDte8rR7NFoT",
        "colab_type": "code",
        "outputId": "05f5ba3f-7ed0-4ee6-8ef9-8ea8dc13417b",
        "colab": {
          "base_uri": "https://localhost:8080/",
          "height": 34
        }
      },
      "source": [
        "evaluer(knn)"
      ],
      "execution_count": 0,
      "outputs": [
        {
          "output_type": "execute_result",
          "data": {
            "text/plain": [
              "233.93"
            ]
          },
          "metadata": {
            "tags": []
          },
          "execution_count": 133
        }
      ]
    },
    {
      "cell_type": "markdown",
      "metadata": {
        "id": "7EFddKstq-No",
        "colab_type": "text"
      },
      "source": [
        "On va essayer plusieurs valeurs de n dans le KNN pour déterminer le meilleur (65 ici dans l'absolu mais le coude se situe plus vers 22)"
      ]
    },
    {
      "cell_type": "code",
      "metadata": {
        "id": "NSXnEdnPiMeD",
        "colab_type": "code",
        "colab": {}
      },
      "source": [
        "results = []\n",
        "for n in range(5,150,2) :\n",
        "  knn_for = KNeighborsRegressor(\n",
        "    n_neighbors=n,\n",
        "    weights=\"distance\"\n",
        "    )\n",
        "  knn_for.fit(X_train, Y_train)\n",
        "  results.append((n, knn_for.score(X_test, Y_test)))"
      ],
      "execution_count": 0,
      "outputs": []
    },
    {
      "cell_type": "code",
      "metadata": {
        "id": "--uZM3riocCN",
        "colab_type": "code",
        "outputId": "a21b197e-d1f9-402c-835c-8d3f6962aed3",
        "colab": {
          "base_uri": "https://localhost:8080/",
          "height": 282
        }
      },
      "source": [
        "L = list(zip(*results))\n",
        "\n",
        "sns.lineplot(L[0],L[1])"
      ],
      "execution_count": 0,
      "outputs": [
        {
          "output_type": "execute_result",
          "data": {
            "text/plain": [
              "<matplotlib.axes._subplots.AxesSubplot at 0x7f53e8255710>"
            ]
          },
          "metadata": {
            "tags": []
          },
          "execution_count": 128
        },
        {
          "output_type": "display_data",
          "data": {
            "image/png": "[encoded data removed]",
            "text/plain": [
              "<Figure size 432x288 with 1 Axes>"
            ]
          },
          "metadata": {
            "tags": []
          }
        }
      ]
    },
    {
      "cell_type": "markdown",
      "metadata": {
        "id": "z9pJDS2GNR7e",
        "colab_type": "text"
      },
      "source": [
        "Bon ce n'est pas mieux que le RidgeRegression ou le XGBoost\n",
        "\n"
      ]
    },
    {
      "cell_type": "code",
      "metadata": {
        "id": "Nf6j9KBSfzao",
        "colab_type": "code",
        "colab": {}
      },
      "source": [
        " features_alt = [\"latitude\", \"longitude\"] + [col for col in data.columns if col.startswith(\"room\")]\n",
        "\n",
        "\n",
        " X_train_alt, X_test_alt, Y_train_alt, Y_test_alt = train_test_split(\n",
        "    data[features_alt],\n",
        "    data[response],\n",
        "    test_size = 0.3\n",
        ")"
      ],
      "execution_count": 0,
      "outputs": []
    },
    {
      "cell_type": "code",
      "metadata": {
        "id": "wvMK698IiDNh",
        "colab_type": "code",
        "outputId": "efead8dc-d337-4200-a04f-2e76f24e9789",
        "colab": {
          "base_uri": "https://localhost:8080/",
          "height": 69
        }
      },
      "source": [
        "knn_alt = KNeighborsRegressor(\n",
        "    n_neighbors=65,\n",
        "    weights=\"distance\"\n",
        ")\n",
        "\n",
        "knn_alt.fit(X_train_alt, Y_train_alt)"
      ],
      "execution_count": 0,
      "outputs": [
        {
          "output_type": "execute_result",
          "data": {
            "text/plain": [
              "KNeighborsRegressor(algorithm='auto', leaf_size=30, metric='minkowski',\n",
              "                    metric_params=None, n_jobs=None, n_neighbors=65, p=2,\n",
              "                    weights='distance')"
            ]
          },
          "metadata": {
            "tags": []
          },
          "execution_count": 134
        }
      ]
    },
    {
      "cell_type": "code",
      "metadata": {
        "id": "yq8PSbmLtd06",
        "colab_type": "code",
        "outputId": "a862237a-a7bb-4292-803e-18b20242de2b",
        "colab": {
          "base_uri": "https://localhost:8080/",
          "height": 34
        }
      },
      "source": [
        "knn_alt.score(X_test_alt, Y_test_alt)"
      ],
      "execution_count": 0,
      "outputs": [
        {
          "output_type": "execute_result",
          "data": {
            "text/plain": [
              "0.10492981248909117"
            ]
          },
          "metadata": {
            "tags": []
          },
          "execution_count": 135
        }
      ]
    },
    {
      "cell_type": "code",
      "metadata": {
        "id": "MrZ66GyDtk1-",
        "colab_type": "code",
        "outputId": "6ed6053b-6dfd-44ca-a305-fe25cb17a2b6",
        "colab": {
          "base_uri": "https://localhost:8080/",
          "height": 34
        }
      },
      "source": [
        "np.round(\n",
        "      np.sqrt(mean_squared_error(\n",
        "          Y_test_alt,\n",
        "          knn_alt.predict(X_test_alt)\n",
        "          )\n",
        "      ),\n",
        "      2\n",
        "  )"
      ],
      "execution_count": 0,
      "outputs": [
        {
          "output_type": "execute_result",
          "data": {
            "text/plain": [
              "202.88"
            ]
          },
          "metadata": {
            "tags": []
          },
          "execution_count": 136
        }
      ]
    },
    {
      "cell_type": "markdown",
      "metadata": {
        "id": "nv5MeDN4fvjG",
        "colab_type": "text"
      },
      "source": [
        "# Visualisation des erreurs"
      ]
    },
    {
      "cell_type": "code",
      "metadata": {
        "id": "oXvMDXJxSC8G",
        "colab_type": "code",
        "colab": {}
      },
      "source": [
        "def squarederror(predictions, valeurs) : return np.sqrt(np.abs(predictions**2 - valeurs**2))"
      ],
      "execution_count": 0,
      "outputs": []
    },
    {
      "cell_type": "code",
      "metadata": {
        "id": "zMe4pMBmdBHy",
        "colab_type": "code",
        "outputId": "00b78cc3-4dc8-4453-cbfa-034d2dbb35ab",
        "colab": {
          "base_uri": "https://localhost:8080/",
          "height": 296
        }
      },
      "source": [
        "# Pour le Ridge\n",
        "sns.distplot(np.log(squarederror(ridge.predict(X_test), Y_test)), bins=500)"
      ],
      "execution_count": 0,
      "outputs": [
        {
          "output_type": "execute_result",
          "data": {
            "text/plain": [
              "<matplotlib.axes._subplots.AxesSubplot at 0x7f53e9f79470>"
            ]
          },
          "metadata": {
            "tags": []
          },
          "execution_count": 108
        },
        {
          "output_type": "display_data",
          "data": {
            "image/png": "[encoded data removed]",
            "text/plain": [
              "<Figure size 432x288 with 1 Axes>"
            ]
          },
          "metadata": {
            "tags": []
          }
        }
      ]
    },
    {
      "cell_type": "code",
      "metadata": {
        "id": "r-AwDLDkhHAn",
        "colab_type": "code",
        "outputId": "2800632a-f138-466e-fc03-ee1a21831f14",
        "colab": {
          "base_uri": "https://localhost:8080/",
          "height": 296
        }
      },
      "source": [
        "# Pour le Lasso\n",
        "sns.distplot(np.log(squarederror(lasso.predict(X_test), Y_test)), bins=500)"
      ],
      "execution_count": 0,
      "outputs": [
        {
          "output_type": "execute_result",
          "data": {
            "text/plain": [
              "<matplotlib.axes._subplots.AxesSubplot at 0x7f53e99caf60>"
            ]
          },
          "metadata": {
            "tags": []
          },
          "execution_count": 109
        },
        {
          "output_type": "display_data",
          "data": {
            "image/png": "[encoded data removed]",
            "text/plain": [
              "<Figure size 432x288 with 1 Axes>"
            ]
          },
          "metadata": {
            "tags": []
          }
        }
      ]
    },
    {
      "cell_type": "code",
      "metadata": {
        "id": "Srtl_VIydf_P",
        "colab_type": "code",
        "outputId": "6b3891c4-ea5d-44c3-db71-d726f0080442",
        "colab": {
          "base_uri": "https://localhost:8080/",
          "height": 296
        }
      },
      "source": [
        "#Pour le XGBoost\n",
        "sns.distplot(np.log(squarederror(gbm.predict(X_test), Y_test)), bins=500)"
      ],
      "execution_count": 0,
      "outputs": [
        {
          "output_type": "execute_result",
          "data": {
            "text/plain": [
              "<matplotlib.axes._subplots.AxesSubplot at 0x7f53ea577da0>"
            ]
          },
          "metadata": {
            "tags": []
          },
          "execution_count": 110
        },
        {
          "output_type": "display_data",
          "data": {
            "image/png": "[encoded data removed]",
            "text/plain": [
              "<Figure size 432x288 with 1 Axes>"
            ]
          },
          "metadata": {
            "tags": []
          }
        }
      ]
    },
    {
      "cell_type": "code",
      "metadata": {
        "id": "BHLxIO9VePPs",
        "colab_type": "code",
        "outputId": "1645118a-3e48-45b8-ad45-b9a08a0e63c8",
        "colab": {
          "base_uri": "https://localhost:8080/",
          "height": 296
        }
      },
      "source": [
        "# Pour le knn\n",
        "sns.distplot(np.log(squarederror(knn.predict(X_test), Y_test)), bins=500)"
      ],
      "execution_count": 0,
      "outputs": [
        {
          "output_type": "execute_result",
          "data": {
            "text/plain": [
              "<matplotlib.axes._subplots.AxesSubplot at 0x7f53e8ee45c0>"
            ]
          },
          "metadata": {
            "tags": []
          },
          "execution_count": 111
        },
        {
          "output_type": "display_data",
          "data": {
            "image/png": "[encoded data removed]",
            "text/plain": [
              "<Figure size 432x288 with 1 Axes>"
            ]
          },
          "metadata": {
            "tags": []
          }
        }
      ]
    },
    {
      "cell_type": "code",
      "metadata": {
        "id": "oOA_HA-ghO59",
        "colab_type": "code",
        "colab": {}
      },
      "source": [
        ""
      ],
      "execution_count": 0,
      "outputs": []
    }
  ]
}